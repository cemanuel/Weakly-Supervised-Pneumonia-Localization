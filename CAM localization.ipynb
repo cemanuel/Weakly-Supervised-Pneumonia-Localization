{
 "cells": [
  {
   "cell_type": "markdown",
   "metadata": {},
   "source": [
    "## Imports"
   ]
  },
  {
   "cell_type": "code",
   "execution_count": 1,
   "metadata": {},
   "outputs": [
    {
     "name": "stderr",
     "output_type": "stream",
     "text": [
      "Using TensorFlow backend.\n"
     ]
    }
   ],
   "source": [
    "%matplotlib inline\n",
    "import numpy as np\n",
    "import pandas as pd\n",
    "import keras\n",
    "from keras import models\n",
    "from keras import layers\n",
    "from keras import optimizers\n",
    "from keras import regularizers\n",
    "import tensorflow as tf\n",
    "import toolkit\n",
    "from constants import *\n",
    "import matplotlib.pyplot as plt\n",
    "from sklearn import model_selection\n",
    "import cv2"
   ]
  },
  {
   "cell_type": "code",
   "execution_count": 2,
   "metadata": {},
   "outputs": [
    {
     "data": {
      "text/plain": [
       "['/job:localhost/replica:0/task:0/device:GPU:0']"
      ]
     },
     "execution_count": 2,
     "metadata": {},
     "output_type": "execute_result"
    }
   ],
   "source": [
    "from keras import backend as K\n",
    "K.clear_session()\n",
    "K.tensorflow_backend._get_available_gpus()"
   ]
  },
  {
   "cell_type": "markdown",
   "metadata": {},
   "source": [
    "## Load DataFrame"
   ]
  },
  {
   "cell_type": "code",
   "execution_count": 3,
   "metadata": {},
   "outputs": [],
   "source": [
    "df_train = pd.read_hdf(\"./train_df_128.h5\", key=\"train\")\n",
    "df_loc = pd.read_pickle(\"./df_loc_128.pkl\")\n",
    "df_seg = pd.read_pickle(\"./df_seg_128.pkl\")"
   ]
  },
  {
   "cell_type": "code",
   "execution_count": 4,
   "metadata": {},
   "outputs": [
    {
     "data": {
      "text/html": [
       "<div>\n",
       "<style>\n",
       "    .dataframe thead tr:only-child th {\n",
       "        text-align: right;\n",
       "    }\n",
       "\n",
       "    .dataframe thead th {\n",
       "        text-align: left;\n",
       "    }\n",
       "\n",
       "    .dataframe tbody tr th {\n",
       "        vertical-align: top;\n",
       "    }\n",
       "</style>\n",
       "<table border=\"1\" class=\"dataframe\">\n",
       "  <thead>\n",
       "    <tr style=\"text-align: right;\">\n",
       "      <th></th>\n",
       "      <th>patientId</th>\n",
       "      <th>Target</th>\n",
       "      <th>x</th>\n",
       "      <th>y</th>\n",
       "      <th>width</th>\n",
       "      <th>height</th>\n",
       "      <th>class</th>\n",
       "      <th>image</th>\n",
       "      <th>seg</th>\n",
       "      <th>loc</th>\n",
       "    </tr>\n",
       "  </thead>\n",
       "  <tbody>\n",
       "    <tr>\n",
       "      <th>0</th>\n",
       "      <td>0004cfab-14fd-4e49-80ba-63a80b6bddd6</td>\n",
       "      <td>0</td>\n",
       "      <td>NaN</td>\n",
       "      <td>NaN</td>\n",
       "      <td>NaN</td>\n",
       "      <td>NaN</td>\n",
       "      <td>No Lung Opacity / Not Normal</td>\n",
       "      <td>[[41, 8, 3, 2, 3, 3, 3, 3, 3, 3, 3, 3, 3, 3, 3...</td>\n",
       "      <td>[[0.04, 0.0, 0.0, 0.0, 0.0, 0.0, 0.0, 0.0, 0.0...</td>\n",
       "      <td>[[0.0, 0.0, 0.0, 0.0, 0.0, 0.0, 0.0, 0.0, 0.0,...</td>\n",
       "    </tr>\n",
       "    <tr>\n",
       "      <th>1</th>\n",
       "      <td>00313ee0-9eaa-42f4-b0ab-c148ed3241cd</td>\n",
       "      <td>0</td>\n",
       "      <td>NaN</td>\n",
       "      <td>NaN</td>\n",
       "      <td>NaN</td>\n",
       "      <td>NaN</td>\n",
       "      <td>No Lung Opacity / Not Normal</td>\n",
       "      <td>[[6, 0, 0, 0, 0, 0, 0, 0, 0, 0, 0, 0, 0, 0, 0,...</td>\n",
       "      <td>[[0.0, 0.0, 0.0, 0.0, 0.0, 0.0, 0.0, 0.0, 0.0,...</td>\n",
       "      <td>[[0.0, 0.0, 0.0, 0.0, 0.0, 0.0, 0.0, 0.0, 0.0,...</td>\n",
       "    </tr>\n",
       "    <tr>\n",
       "      <th>2</th>\n",
       "      <td>00322d4d-1c29-4943-afc9-b6754be640eb</td>\n",
       "      <td>0</td>\n",
       "      <td>NaN</td>\n",
       "      <td>NaN</td>\n",
       "      <td>NaN</td>\n",
       "      <td>NaN</td>\n",
       "      <td>No Lung Opacity / Not Normal</td>\n",
       "      <td>[[17, 14, 14, 14, 14, 13, 13, 13, 13, 13, 13, ...</td>\n",
       "      <td>[[0.0, 0.0, 0.0, 0.0, 0.0, 0.0, 0.0, 0.0, 0.0,...</td>\n",
       "      <td>[[0.0, 0.0, 0.0, 0.0, 0.0, 0.0, 0.0, 0.0, 0.0,...</td>\n",
       "    </tr>\n",
       "    <tr>\n",
       "      <th>3</th>\n",
       "      <td>003d8fa0-6bf1-40ed-b54c-ac657f8495c5</td>\n",
       "      <td>0</td>\n",
       "      <td>NaN</td>\n",
       "      <td>NaN</td>\n",
       "      <td>NaN</td>\n",
       "      <td>NaN</td>\n",
       "      <td>Normal</td>\n",
       "      <td>[[191, 181, 170, 165, 161, 160, 158, 157, 155,...</td>\n",
       "      <td>[[0.14, 0.0, 0.0, 0.0, 0.0, 0.0, 0.0, 0.0, 0.0...</td>\n",
       "      <td>[[0.0, 0.0, 0.0, 0.0, 0.0, 0.0, 0.0, 0.0, 0.0,...</td>\n",
       "    </tr>\n",
       "    <tr>\n",
       "      <th>4</th>\n",
       "      <td>00436515-870c-4b36-a041-de91049b9ab4</td>\n",
       "      <td>1</td>\n",
       "      <td>264.0</td>\n",
       "      <td>152.0</td>\n",
       "      <td>213.0</td>\n",
       "      <td>379.0</td>\n",
       "      <td>Lung Opacity</td>\n",
       "      <td>[[3, 3, 3, 2, 2, 3, 5, 5, 6, 7, 8, 9, 9, 10, 1...</td>\n",
       "      <td>[[0.0, 0.0, 0.0, 0.0, 0.0, 0.0, 0.0, 0.0, 0.0,...</td>\n",
       "      <td>[[0.0, 0.0, 0.0, 0.0, 0.0, 0.0, 0.0, 0.0, 0.0,...</td>\n",
       "    </tr>\n",
       "    <tr>\n",
       "      <th>5</th>\n",
       "      <td>00436515-870c-4b36-a041-de91049b9ab4</td>\n",
       "      <td>1</td>\n",
       "      <td>562.0</td>\n",
       "      <td>152.0</td>\n",
       "      <td>256.0</td>\n",
       "      <td>453.0</td>\n",
       "      <td>Lung Opacity</td>\n",
       "      <td>[[3, 3, 3, 2, 2, 3, 5, 5, 6, 7, 8, 9, 9, 10, 1...</td>\n",
       "      <td>[[0.0, 0.0, 0.0, 0.0, 0.0, 0.0, 0.0, 0.0, 0.0,...</td>\n",
       "      <td>[[0.0, 0.0, 0.0, 0.0, 0.0, 0.0, 0.0, 0.0, 0.0,...</td>\n",
       "    </tr>\n",
       "    <tr>\n",
       "      <th>6</th>\n",
       "      <td>00569f44-917d-4c86-a842-81832af98c30</td>\n",
       "      <td>0</td>\n",
       "      <td>NaN</td>\n",
       "      <td>NaN</td>\n",
       "      <td>NaN</td>\n",
       "      <td>NaN</td>\n",
       "      <td>No Lung Opacity / Not Normal</td>\n",
       "      <td>[[1, 2, 2, 2, 2, 2, 2, 2, 2, 2, 2, 2, 2, 3, 3,...</td>\n",
       "      <td>[[0.0, 0.0, 0.0, 0.0, 0.0, 0.0, 0.0, 0.0, 0.0,...</td>\n",
       "      <td>[[0.0, 0.0, 0.0, 0.0, 0.0, 0.0, 0.0, 0.0, 0.0,...</td>\n",
       "    </tr>\n",
       "    <tr>\n",
       "      <th>7</th>\n",
       "      <td>006cec2e-6ce2-4549-bffa-eadfcd1e9970</td>\n",
       "      <td>0</td>\n",
       "      <td>NaN</td>\n",
       "      <td>NaN</td>\n",
       "      <td>NaN</td>\n",
       "      <td>NaN</td>\n",
       "      <td>No Lung Opacity / Not Normal</td>\n",
       "      <td>[[158, 59, 19, 4, 5, 7, 8, 7, 9, 9, 9, 9, 10, ...</td>\n",
       "      <td>[[0.02, 0.0, 0.0, 0.0, 0.0, 0.0, 0.0, 0.0, 0.0...</td>\n",
       "      <td>[[0.0, 0.0, 0.0, 0.0, 0.0, 0.0, 0.0, 0.0, 0.0,...</td>\n",
       "    </tr>\n",
       "    <tr>\n",
       "      <th>8</th>\n",
       "      <td>00704310-78a8-4b38-8475-49f4573b2dbb</td>\n",
       "      <td>1</td>\n",
       "      <td>323.0</td>\n",
       "      <td>577.0</td>\n",
       "      <td>160.0</td>\n",
       "      <td>104.0</td>\n",
       "      <td>Lung Opacity</td>\n",
       "      <td>[[27, 2, 1, 1, 1, 2, 2, 2, 2, 2, 2, 2, 2, 2, 2...</td>\n",
       "      <td>[[0.07, 0.0, 0.0, 0.0, 0.0, 0.0, 0.0, 0.0, 0.0...</td>\n",
       "      <td>[[0.0, 0.0, 0.0, 0.0, 0.0, 0.0, 0.0, 0.0, 0.0,...</td>\n",
       "    </tr>\n",
       "    <tr>\n",
       "      <th>9</th>\n",
       "      <td>00704310-78a8-4b38-8475-49f4573b2dbb</td>\n",
       "      <td>1</td>\n",
       "      <td>695.0</td>\n",
       "      <td>575.0</td>\n",
       "      <td>162.0</td>\n",
       "      <td>137.0</td>\n",
       "      <td>Lung Opacity</td>\n",
       "      <td>[[27, 2, 1, 1, 1, 2, 2, 2, 2, 2, 2, 2, 2, 2, 2...</td>\n",
       "      <td>[[0.07, 0.0, 0.0, 0.0, 0.0, 0.0, 0.0, 0.0, 0.0...</td>\n",
       "      <td>[[0.0, 0.0, 0.0, 0.0, 0.0, 0.0, 0.0, 0.0, 0.0,...</td>\n",
       "    </tr>\n",
       "  </tbody>\n",
       "</table>\n",
       "</div>"
      ],
      "text/plain": [
       "                              patientId  Target      x      y  width  height  \\\n",
       "0  0004cfab-14fd-4e49-80ba-63a80b6bddd6       0    NaN    NaN    NaN     NaN   \n",
       "1  00313ee0-9eaa-42f4-b0ab-c148ed3241cd       0    NaN    NaN    NaN     NaN   \n",
       "2  00322d4d-1c29-4943-afc9-b6754be640eb       0    NaN    NaN    NaN     NaN   \n",
       "3  003d8fa0-6bf1-40ed-b54c-ac657f8495c5       0    NaN    NaN    NaN     NaN   \n",
       "4  00436515-870c-4b36-a041-de91049b9ab4       1  264.0  152.0  213.0   379.0   \n",
       "5  00436515-870c-4b36-a041-de91049b9ab4       1  562.0  152.0  256.0   453.0   \n",
       "6  00569f44-917d-4c86-a842-81832af98c30       0    NaN    NaN    NaN     NaN   \n",
       "7  006cec2e-6ce2-4549-bffa-eadfcd1e9970       0    NaN    NaN    NaN     NaN   \n",
       "8  00704310-78a8-4b38-8475-49f4573b2dbb       1  323.0  577.0  160.0   104.0   \n",
       "9  00704310-78a8-4b38-8475-49f4573b2dbb       1  695.0  575.0  162.0   137.0   \n",
       "\n",
       "                          class  \\\n",
       "0  No Lung Opacity / Not Normal   \n",
       "1  No Lung Opacity / Not Normal   \n",
       "2  No Lung Opacity / Not Normal   \n",
       "3                        Normal   \n",
       "4                  Lung Opacity   \n",
       "5                  Lung Opacity   \n",
       "6  No Lung Opacity / Not Normal   \n",
       "7  No Lung Opacity / Not Normal   \n",
       "8                  Lung Opacity   \n",
       "9                  Lung Opacity   \n",
       "\n",
       "                                               image  \\\n",
       "0  [[41, 8, 3, 2, 3, 3, 3, 3, 3, 3, 3, 3, 3, 3, 3...   \n",
       "1  [[6, 0, 0, 0, 0, 0, 0, 0, 0, 0, 0, 0, 0, 0, 0,...   \n",
       "2  [[17, 14, 14, 14, 14, 13, 13, 13, 13, 13, 13, ...   \n",
       "3  [[191, 181, 170, 165, 161, 160, 158, 157, 155,...   \n",
       "4  [[3, 3, 3, 2, 2, 3, 5, 5, 6, 7, 8, 9, 9, 10, 1...   \n",
       "5  [[3, 3, 3, 2, 2, 3, 5, 5, 6, 7, 8, 9, 9, 10, 1...   \n",
       "6  [[1, 2, 2, 2, 2, 2, 2, 2, 2, 2, 2, 2, 2, 3, 3,...   \n",
       "7  [[158, 59, 19, 4, 5, 7, 8, 7, 9, 9, 9, 9, 10, ...   \n",
       "8  [[27, 2, 1, 1, 1, 2, 2, 2, 2, 2, 2, 2, 2, 2, 2...   \n",
       "9  [[27, 2, 1, 1, 1, 2, 2, 2, 2, 2, 2, 2, 2, 2, 2...   \n",
       "\n",
       "                                                 seg  \\\n",
       "0  [[0.04, 0.0, 0.0, 0.0, 0.0, 0.0, 0.0, 0.0, 0.0...   \n",
       "1  [[0.0, 0.0, 0.0, 0.0, 0.0, 0.0, 0.0, 0.0, 0.0,...   \n",
       "2  [[0.0, 0.0, 0.0, 0.0, 0.0, 0.0, 0.0, 0.0, 0.0,...   \n",
       "3  [[0.14, 0.0, 0.0, 0.0, 0.0, 0.0, 0.0, 0.0, 0.0...   \n",
       "4  [[0.0, 0.0, 0.0, 0.0, 0.0, 0.0, 0.0, 0.0, 0.0,...   \n",
       "5  [[0.0, 0.0, 0.0, 0.0, 0.0, 0.0, 0.0, 0.0, 0.0,...   \n",
       "6  [[0.0, 0.0, 0.0, 0.0, 0.0, 0.0, 0.0, 0.0, 0.0,...   \n",
       "7  [[0.02, 0.0, 0.0, 0.0, 0.0, 0.0, 0.0, 0.0, 0.0...   \n",
       "8  [[0.07, 0.0, 0.0, 0.0, 0.0, 0.0, 0.0, 0.0, 0.0...   \n",
       "9  [[0.07, 0.0, 0.0, 0.0, 0.0, 0.0, 0.0, 0.0, 0.0...   \n",
       "\n",
       "                                                 loc  \n",
       "0  [[0.0, 0.0, 0.0, 0.0, 0.0, 0.0, 0.0, 0.0, 0.0,...  \n",
       "1  [[0.0, 0.0, 0.0, 0.0, 0.0, 0.0, 0.0, 0.0, 0.0,...  \n",
       "2  [[0.0, 0.0, 0.0, 0.0, 0.0, 0.0, 0.0, 0.0, 0.0,...  \n",
       "3  [[0.0, 0.0, 0.0, 0.0, 0.0, 0.0, 0.0, 0.0, 0.0,...  \n",
       "4  [[0.0, 0.0, 0.0, 0.0, 0.0, 0.0, 0.0, 0.0, 0.0,...  \n",
       "5  [[0.0, 0.0, 0.0, 0.0, 0.0, 0.0, 0.0, 0.0, 0.0,...  \n",
       "6  [[0.0, 0.0, 0.0, 0.0, 0.0, 0.0, 0.0, 0.0, 0.0,...  \n",
       "7  [[0.0, 0.0, 0.0, 0.0, 0.0, 0.0, 0.0, 0.0, 0.0,...  \n",
       "8  [[0.0, 0.0, 0.0, 0.0, 0.0, 0.0, 0.0, 0.0, 0.0,...  \n",
       "9  [[0.0, 0.0, 0.0, 0.0, 0.0, 0.0, 0.0, 0.0, 0.0,...  "
      ]
     },
     "execution_count": 4,
     "metadata": {},
     "output_type": "execute_result"
    }
   ],
   "source": [
    "df_train = df_train.merge(df_seg, left_index=True, right_index=True, how='outer', suffixes=('', '_s'))\n",
    "df_train = df_train.merge(df_loc, left_index=True, right_index=True, how='outer', suffixes=('', '_l'))\n",
    "df_train = df_train[[\"patientId\",\"Target\",'x','y','width','height',\"class\",\"image\",\"seg\",\"loc\"]]\n",
    "df_train.head(10)"
   ]
  },
  {
   "cell_type": "code",
   "execution_count": 5,
   "metadata": {},
   "outputs": [
    {
     "data": {
      "text/html": [
       "<div>\n",
       "<style>\n",
       "    .dataframe thead tr:only-child th {\n",
       "        text-align: right;\n",
       "    }\n",
       "\n",
       "    .dataframe thead th {\n",
       "        text-align: left;\n",
       "    }\n",
       "\n",
       "    .dataframe tbody tr th {\n",
       "        vertical-align: top;\n",
       "    }\n",
       "</style>\n",
       "<table border=\"1\" class=\"dataframe\">\n",
       "  <thead>\n",
       "    <tr style=\"text-align: right;\">\n",
       "      <th></th>\n",
       "      <th>index</th>\n",
       "      <th>patientId</th>\n",
       "      <th>Target</th>\n",
       "      <th>x</th>\n",
       "      <th>y</th>\n",
       "      <th>width</th>\n",
       "      <th>height</th>\n",
       "      <th>class</th>\n",
       "      <th>image</th>\n",
       "      <th>seg</th>\n",
       "      <th>loc</th>\n",
       "    </tr>\n",
       "  </thead>\n",
       "  <tbody>\n",
       "    <tr>\n",
       "      <th>0</th>\n",
       "      <td>3</td>\n",
       "      <td>003d8fa0-6bf1-40ed-b54c-ac657f8495c5</td>\n",
       "      <td>0</td>\n",
       "      <td>NaN</td>\n",
       "      <td>NaN</td>\n",
       "      <td>NaN</td>\n",
       "      <td>NaN</td>\n",
       "      <td>Normal</td>\n",
       "      <td>[[191, 181, 170, 165, 161, 160, 158, 157, 155,...</td>\n",
       "      <td>[[0.14, 0.0, 0.0, 0.0, 0.0, 0.0, 0.0, 0.0, 0.0...</td>\n",
       "      <td>[[0.0, 0.0, 0.0, 0.0, 0.0, 0.0, 0.0, 0.0, 0.0,...</td>\n",
       "    </tr>\n",
       "    <tr>\n",
       "      <th>1</th>\n",
       "      <td>4</td>\n",
       "      <td>00436515-870c-4b36-a041-de91049b9ab4</td>\n",
       "      <td>1</td>\n",
       "      <td>264.0</td>\n",
       "      <td>152.0</td>\n",
       "      <td>213.0</td>\n",
       "      <td>379.0</td>\n",
       "      <td>Lung Opacity</td>\n",
       "      <td>[[3, 3, 3, 2, 2, 3, 5, 5, 6, 7, 8, 9, 9, 10, 1...</td>\n",
       "      <td>[[0.0, 0.0, 0.0, 0.0, 0.0, 0.0, 0.0, 0.0, 0.0,...</td>\n",
       "      <td>[[0.0, 0.0, 0.0, 0.0, 0.0, 0.0, 0.0, 0.0, 0.0,...</td>\n",
       "    </tr>\n",
       "    <tr>\n",
       "      <th>2</th>\n",
       "      <td>5</td>\n",
       "      <td>00436515-870c-4b36-a041-de91049b9ab4</td>\n",
       "      <td>1</td>\n",
       "      <td>562.0</td>\n",
       "      <td>152.0</td>\n",
       "      <td>256.0</td>\n",
       "      <td>453.0</td>\n",
       "      <td>Lung Opacity</td>\n",
       "      <td>[[3, 3, 3, 2, 2, 3, 5, 5, 6, 7, 8, 9, 9, 10, 1...</td>\n",
       "      <td>[[0.0, 0.0, 0.0, 0.0, 0.0, 0.0, 0.0, 0.0, 0.0,...</td>\n",
       "      <td>[[0.0, 0.0, 0.0, 0.0, 0.0, 0.0, 0.0, 0.0, 0.0,...</td>\n",
       "    </tr>\n",
       "    <tr>\n",
       "      <th>3</th>\n",
       "      <td>8</td>\n",
       "      <td>00704310-78a8-4b38-8475-49f4573b2dbb</td>\n",
       "      <td>1</td>\n",
       "      <td>323.0</td>\n",
       "      <td>577.0</td>\n",
       "      <td>160.0</td>\n",
       "      <td>104.0</td>\n",
       "      <td>Lung Opacity</td>\n",
       "      <td>[[27, 2, 1, 1, 1, 2, 2, 2, 2, 2, 2, 2, 2, 2, 2...</td>\n",
       "      <td>[[0.07, 0.0, 0.0, 0.0, 0.0, 0.0, 0.0, 0.0, 0.0...</td>\n",
       "      <td>[[0.0, 0.0, 0.0, 0.0, 0.0, 0.0, 0.0, 0.0, 0.0,...</td>\n",
       "    </tr>\n",
       "    <tr>\n",
       "      <th>4</th>\n",
       "      <td>9</td>\n",
       "      <td>00704310-78a8-4b38-8475-49f4573b2dbb</td>\n",
       "      <td>1</td>\n",
       "      <td>695.0</td>\n",
       "      <td>575.0</td>\n",
       "      <td>162.0</td>\n",
       "      <td>137.0</td>\n",
       "      <td>Lung Opacity</td>\n",
       "      <td>[[27, 2, 1, 1, 1, 2, 2, 2, 2, 2, 2, 2, 2, 2, 2...</td>\n",
       "      <td>[[0.07, 0.0, 0.0, 0.0, 0.0, 0.0, 0.0, 0.0, 0.0...</td>\n",
       "      <td>[[0.0, 0.0, 0.0, 0.0, 0.0, 0.0, 0.0, 0.0, 0.0,...</td>\n",
       "    </tr>\n",
       "    <tr>\n",
       "      <th>5</th>\n",
       "      <td>11</td>\n",
       "      <td>009482dc-3db5-48d4-8580-5c89c4f01334</td>\n",
       "      <td>0</td>\n",
       "      <td>NaN</td>\n",
       "      <td>NaN</td>\n",
       "      <td>NaN</td>\n",
       "      <td>NaN</td>\n",
       "      <td>Normal</td>\n",
       "      <td>[[0, 0, 0, 0, 0, 0, 0, 0, 0, 0, 0, 0, 0, 0, 0,...</td>\n",
       "      <td>[[0.0, 0.0, 0.0, 0.0, 0.0, 0.0, 0.0, 0.0, 0.0,...</td>\n",
       "      <td>[[0.0, 0.0, 0.0, 0.0, 0.0, 0.0, 0.0, 0.0, 0.0,...</td>\n",
       "    </tr>\n",
       "    <tr>\n",
       "      <th>6</th>\n",
       "      <td>12</td>\n",
       "      <td>009eb222-eabc-4150-8121-d5a6d06b8ebf</td>\n",
       "      <td>0</td>\n",
       "      <td>NaN</td>\n",
       "      <td>NaN</td>\n",
       "      <td>NaN</td>\n",
       "      <td>NaN</td>\n",
       "      <td>Normal</td>\n",
       "      <td>[[0, 56, 36, 25, 21, 21, 21, 21, 21, 20, 20, 2...</td>\n",
       "      <td>[[0.0, 0.0, 0.0, 0.0, 0.0, 0.0, 0.0, 0.0, 0.0,...</td>\n",
       "      <td>[[0.0, 0.0, 0.0, 0.0, 0.0, 0.0, 0.0, 0.0, 0.0,...</td>\n",
       "    </tr>\n",
       "    <tr>\n",
       "      <th>7</th>\n",
       "      <td>13</td>\n",
       "      <td>00a85be6-6eb0-421d-8acf-ff2dc0007e8a</td>\n",
       "      <td>0</td>\n",
       "      <td>NaN</td>\n",
       "      <td>NaN</td>\n",
       "      <td>NaN</td>\n",
       "      <td>NaN</td>\n",
       "      <td>Normal</td>\n",
       "      <td>[[0, 0, 0, 0, 0, 0, 0, 0, 0, 0, 0, 0, 0, 0, 0,...</td>\n",
       "      <td>[[0.0, 0.0, 0.0, 0.0, 0.0, 0.0, 0.0, 0.0, 0.0,...</td>\n",
       "      <td>[[0.0, 0.0, 0.0, 0.0, 0.0, 0.0, 0.0, 0.0, 0.0,...</td>\n",
       "    </tr>\n",
       "    <tr>\n",
       "      <th>8</th>\n",
       "      <td>14</td>\n",
       "      <td>00aecb01-a116-45a2-956c-08d2fa55433f</td>\n",
       "      <td>1</td>\n",
       "      <td>288.0</td>\n",
       "      <td>322.0</td>\n",
       "      <td>94.0</td>\n",
       "      <td>135.0</td>\n",
       "      <td>Lung Opacity</td>\n",
       "      <td>[[0, 0, 0, 0, 0, 0, 0, 0, 0, 0, 0, 0, 0, 0, 0,...</td>\n",
       "      <td>[[0.0, 0.0, 0.0, 0.0, 0.0, 0.0, 0.0, 0.0, 0.0,...</td>\n",
       "      <td>[[0.0, 0.0, 0.0, 0.0, 0.0, 0.0, 0.0, 0.0, 0.0,...</td>\n",
       "    </tr>\n",
       "    <tr>\n",
       "      <th>9</th>\n",
       "      <td>15</td>\n",
       "      <td>00aecb01-a116-45a2-956c-08d2fa55433f</td>\n",
       "      <td>1</td>\n",
       "      <td>547.0</td>\n",
       "      <td>299.0</td>\n",
       "      <td>119.0</td>\n",
       "      <td>165.0</td>\n",
       "      <td>Lung Opacity</td>\n",
       "      <td>[[0, 0, 0, 0, 0, 0, 0, 0, 0, 0, 0, 0, 0, 0, 0,...</td>\n",
       "      <td>[[0.0, 0.0, 0.0, 0.0, 0.0, 0.0, 0.0, 0.0, 0.0,...</td>\n",
       "      <td>[[0.0, 0.0, 0.0, 0.0, 0.0, 0.0, 0.0, 0.0, 0.0,...</td>\n",
       "    </tr>\n",
       "  </tbody>\n",
       "</table>\n",
       "</div>"
      ],
      "text/plain": [
       "   index                             patientId  Target      x      y  width  \\\n",
       "0      3  003d8fa0-6bf1-40ed-b54c-ac657f8495c5       0    NaN    NaN    NaN   \n",
       "1      4  00436515-870c-4b36-a041-de91049b9ab4       1  264.0  152.0  213.0   \n",
       "2      5  00436515-870c-4b36-a041-de91049b9ab4       1  562.0  152.0  256.0   \n",
       "3      8  00704310-78a8-4b38-8475-49f4573b2dbb       1  323.0  577.0  160.0   \n",
       "4      9  00704310-78a8-4b38-8475-49f4573b2dbb       1  695.0  575.0  162.0   \n",
       "5     11  009482dc-3db5-48d4-8580-5c89c4f01334       0    NaN    NaN    NaN   \n",
       "6     12  009eb222-eabc-4150-8121-d5a6d06b8ebf       0    NaN    NaN    NaN   \n",
       "7     13  00a85be6-6eb0-421d-8acf-ff2dc0007e8a       0    NaN    NaN    NaN   \n",
       "8     14  00aecb01-a116-45a2-956c-08d2fa55433f       1  288.0  322.0   94.0   \n",
       "9     15  00aecb01-a116-45a2-956c-08d2fa55433f       1  547.0  299.0  119.0   \n",
       "\n",
       "   height         class                                              image  \\\n",
       "0     NaN        Normal  [[191, 181, 170, 165, 161, 160, 158, 157, 155,...   \n",
       "1   379.0  Lung Opacity  [[3, 3, 3, 2, 2, 3, 5, 5, 6, 7, 8, 9, 9, 10, 1...   \n",
       "2   453.0  Lung Opacity  [[3, 3, 3, 2, 2, 3, 5, 5, 6, 7, 8, 9, 9, 10, 1...   \n",
       "3   104.0  Lung Opacity  [[27, 2, 1, 1, 1, 2, 2, 2, 2, 2, 2, 2, 2, 2, 2...   \n",
       "4   137.0  Lung Opacity  [[27, 2, 1, 1, 1, 2, 2, 2, 2, 2, 2, 2, 2, 2, 2...   \n",
       "5     NaN        Normal  [[0, 0, 0, 0, 0, 0, 0, 0, 0, 0, 0, 0, 0, 0, 0,...   \n",
       "6     NaN        Normal  [[0, 56, 36, 25, 21, 21, 21, 21, 21, 20, 20, 2...   \n",
       "7     NaN        Normal  [[0, 0, 0, 0, 0, 0, 0, 0, 0, 0, 0, 0, 0, 0, 0,...   \n",
       "8   135.0  Lung Opacity  [[0, 0, 0, 0, 0, 0, 0, 0, 0, 0, 0, 0, 0, 0, 0,...   \n",
       "9   165.0  Lung Opacity  [[0, 0, 0, 0, 0, 0, 0, 0, 0, 0, 0, 0, 0, 0, 0,...   \n",
       "\n",
       "                                                 seg  \\\n",
       "0  [[0.14, 0.0, 0.0, 0.0, 0.0, 0.0, 0.0, 0.0, 0.0...   \n",
       "1  [[0.0, 0.0, 0.0, 0.0, 0.0, 0.0, 0.0, 0.0, 0.0,...   \n",
       "2  [[0.0, 0.0, 0.0, 0.0, 0.0, 0.0, 0.0, 0.0, 0.0,...   \n",
       "3  [[0.07, 0.0, 0.0, 0.0, 0.0, 0.0, 0.0, 0.0, 0.0...   \n",
       "4  [[0.07, 0.0, 0.0, 0.0, 0.0, 0.0, 0.0, 0.0, 0.0...   \n",
       "5  [[0.0, 0.0, 0.0, 0.0, 0.0, 0.0, 0.0, 0.0, 0.0,...   \n",
       "6  [[0.0, 0.0, 0.0, 0.0, 0.0, 0.0, 0.0, 0.0, 0.0,...   \n",
       "7  [[0.0, 0.0, 0.0, 0.0, 0.0, 0.0, 0.0, 0.0, 0.0,...   \n",
       "8  [[0.0, 0.0, 0.0, 0.0, 0.0, 0.0, 0.0, 0.0, 0.0,...   \n",
       "9  [[0.0, 0.0, 0.0, 0.0, 0.0, 0.0, 0.0, 0.0, 0.0,...   \n",
       "\n",
       "                                                 loc  \n",
       "0  [[0.0, 0.0, 0.0, 0.0, 0.0, 0.0, 0.0, 0.0, 0.0,...  \n",
       "1  [[0.0, 0.0, 0.0, 0.0, 0.0, 0.0, 0.0, 0.0, 0.0,...  \n",
       "2  [[0.0, 0.0, 0.0, 0.0, 0.0, 0.0, 0.0, 0.0, 0.0,...  \n",
       "3  [[0.0, 0.0, 0.0, 0.0, 0.0, 0.0, 0.0, 0.0, 0.0,...  \n",
       "4  [[0.0, 0.0, 0.0, 0.0, 0.0, 0.0, 0.0, 0.0, 0.0,...  \n",
       "5  [[0.0, 0.0, 0.0, 0.0, 0.0, 0.0, 0.0, 0.0, 0.0,...  \n",
       "6  [[0.0, 0.0, 0.0, 0.0, 0.0, 0.0, 0.0, 0.0, 0.0,...  \n",
       "7  [[0.0, 0.0, 0.0, 0.0, 0.0, 0.0, 0.0, 0.0, 0.0,...  \n",
       "8  [[0.0, 0.0, 0.0, 0.0, 0.0, 0.0, 0.0, 0.0, 0.0,...  \n",
       "9  [[0.0, 0.0, 0.0, 0.0, 0.0, 0.0, 0.0, 0.0, 0.0,...  "
      ]
     },
     "execution_count": 5,
     "metadata": {},
     "output_type": "execute_result"
    }
   ],
   "source": [
    "df_train = df_train[(df_train['class'] == 'Lung Opacity') | (df_train['class'] == 'Normal')]\n",
    "df_train = df_train.reset_index()\n",
    "df_train.head(10)"
   ]
  },
  {
   "cell_type": "code",
   "execution_count": 6,
   "metadata": {},
   "outputs": [],
   "source": [
    "df_train_valid = df_train.iloc[13116:]"
   ]
  },
  {
   "cell_type": "code",
   "execution_count": 7,
   "metadata": {},
   "outputs": [],
   "source": [
    "x_train_seg, x_valid_seg, y_train_seg, y_valid_seg = model_selection.train_test_split(df_train['seg'],df_train['Target'],test_size = 0.25, shuffle=False)"
   ]
  },
  {
   "cell_type": "code",
   "execution_count": 8,
   "metadata": {},
   "outputs": [],
   "source": [
    "x_train_loc, x_valid_loc, y_train_loc, y_valid_loc = model_selection.train_test_split(df_train['loc'],df_train['Target'],test_size = 0.25, shuffle=False)"
   ]
  },
  {
   "cell_type": "code",
   "execution_count": 9,
   "metadata": {},
   "outputs": [],
   "source": [
    "x_train_original, x_valid_original, y_train, y_valid = model_selection.train_test_split(df_train['image'],df_train['Target'],test_size = 0.25, shuffle=False)"
   ]
  },
  {
   "cell_type": "code",
   "execution_count": 10,
   "metadata": {},
   "outputs": [],
   "source": [
    "x_train = np.array([[l * 255, o] for l,o in zip(x_train_loc, x_train_original)])\n",
    "x_valid = np.array([[l * 255, o] for l,o in zip(x_valid_loc, x_valid_original)])"
   ]
  },
  {
   "cell_type": "code",
   "execution_count": 11,
   "metadata": {},
   "outputs": [],
   "source": [
    "#x_train = x_train.reshape(-1,128,128,2)\n",
    "x_train = np.transpose(x_train, [0,2,3,1])\n",
    "x_valid = np.transpose(x_valid, [0,2,3,1])"
   ]
  },
  {
   "cell_type": "code",
   "execution_count": 12,
   "metadata": {},
   "outputs": [],
   "source": [
    "y_train = np.array([np.array([1,0]) if y == 0 else np.array([0,1]) for y in y_train])\n",
    "y_valid = np.array([np.array([1,0]) if y == 0 else np.array([0,1]) for y in y_valid])"
   ]
  },
  {
   "cell_type": "code",
   "execution_count": 13,
   "metadata": {},
   "outputs": [],
   "source": [
    "patientId_to_coord = {}\n",
    "\n",
    "for i in range(len(df_train)):\n",
    "    pid = df_train.iloc[i]['patientId']\n",
    "    if pid in patientId_to_coord:\n",
    "        patientId_to_coord[pid].append(np.array([df_train.iloc[i]['x'] / 8 , df_train.iloc[i]['y'] / 8, df_train.iloc[i]['width'] / 8, df_train.iloc[i]['height'] /8 ]))\n",
    "    else:\n",
    "        patientId_to_coord[pid] = [np.array([df_train.iloc[i]['x'] / 8 , df_train.iloc[i]['y'] / 8, df_train.iloc[i]['width'] / 8, df_train.iloc[i]['height'] /8 ])]\n"
   ]
  },
  {
   "cell_type": "code",
   "execution_count": 14,
   "metadata": {},
   "outputs": [
    {
     "data": {
      "image/png": "[encoded data removed]",
      "text/plain": [
       "<Figure size 2160x2160 with 3 Axes>"
      ]
     },
     "metadata": {},
     "output_type": "display_data"
    }
   ],
   "source": [
    "fig, axes = plt.subplots(1,3, figsize=(30,30))\n",
    "labels = ['original','lung segmentation', 'lung_location']\n",
    "pics = [x_train_original[9055], x_train_seg[9055],  x_train_loc[9055]]\n",
    "for i, ax in enumerate(axes):\n",
    "    #im = overlay_box(pics[i], idx, 255)\n",
    "    im = pics[i]\n",
    "    ax.set_title(labels[i], fontsize=25)\n",
    "    #if i == 1:\n",
    "    #im = overlay_box(im, 9055, 255)\n",
    "    ax.imshow(im, cmap='gray')"
   ]
  },
  {
   "cell_type": "code",
   "execution_count": 26,
   "metadata": {},
   "outputs": [
    {
     "name": "stdout",
     "output_type": "stream",
     "text": [
      "Building model....\n"
     ]
    },
    {
     "name": "stderr",
     "output_type": "stream",
     "text": [
      "/jet/var/python/lib/python3.6/site-packages/ipykernel_launcher.py:56: UserWarning: Update your `Conv2D` call to the Keras 2 API: `Conv2D(64, (3, 3), activation=\"relu\", name=\"conv1_1\")`\n",
      "/jet/var/python/lib/python3.6/site-packages/ipykernel_launcher.py:58: UserWarning: Update your `Conv2D` call to the Keras 2 API: `Conv2D(64, (3, 3), activation=\"relu\", name=\"conv1_2\")`\n",
      "/jet/var/python/lib/python3.6/site-packages/ipykernel_launcher.py:62: UserWarning: Update your `Conv2D` call to the Keras 2 API: `Conv2D(128, (3, 3), activation=\"relu\", name=\"conv2_1\")`\n",
      "/jet/var/python/lib/python3.6/site-packages/ipykernel_launcher.py:64: UserWarning: Update your `Conv2D` call to the Keras 2 API: `Conv2D(128, (3, 3), activation=\"relu\", name=\"conv2_2\")`\n",
      "/jet/var/python/lib/python3.6/site-packages/ipykernel_launcher.py:68: UserWarning: Update your `Conv2D` call to the Keras 2 API: `Conv2D(256, (3, 3), activation=\"relu\", name=\"conv3_1\")`\n",
      "/jet/var/python/lib/python3.6/site-packages/ipykernel_launcher.py:70: UserWarning: Update your `Conv2D` call to the Keras 2 API: `Conv2D(256, (3, 3), activation=\"relu\", name=\"conv3_2\")`\n",
      "/jet/var/python/lib/python3.6/site-packages/ipykernel_launcher.py:72: UserWarning: Update your `Conv2D` call to the Keras 2 API: `Conv2D(256, (3, 3), activation=\"relu\", name=\"conv3_3\")`\n",
      "/jet/var/python/lib/python3.6/site-packages/ipykernel_launcher.py:77: UserWarning: Update your `Conv2D` call to the Keras 2 API: `Conv2D(512, (3, 3), activation=\"relu\", name=\"conv5_1\")`\n",
      "/jet/var/python/lib/python3.6/site-packages/ipykernel_launcher.py:79: UserWarning: Update your `Conv2D` call to the Keras 2 API: `Conv2D(512, (3, 3), activation=\"relu\", name=\"conv5_2\")`\n",
      "/jet/var/python/lib/python3.6/site-packages/ipykernel_launcher.py:81: UserWarning: Update your `Conv2D` call to the Keras 2 API: `Conv2D(512, (3, 3), activation=\"relu\", name=\"conv5_3\")`\n"
     ]
    },
    {
     "name": "stdout",
     "output_type": "stream",
     "text": [
      "Train on 13116 samples, validate on 4373 samples\n",
      "Epoch 1/20\n",
      "13116/13116 [==============================] - 45s 3ms/step - loss: 0.4324 - categorical_accuracy: 0.7940 - val_loss: 0.2752 - val_categorical_accuracy: 0.8962\n",
      "Epoch 2/20\n",
      "13116/13116 [==============================] - 43s 3ms/step - loss: 0.3026 - categorical_accuracy: 0.8753 - val_loss: 0.2673 - val_categorical_accuracy: 0.9030\n",
      "Epoch 3/20\n",
      "13116/13116 [==============================] - 43s 3ms/step - loss: 0.2734 - categorical_accuracy: 0.8869 - val_loss: 0.2191 - val_categorical_accuracy: 0.9213\n",
      "Epoch 4/20\n",
      "13116/13116 [==============================] - 43s 3ms/step - loss: 0.2626 - categorical_accuracy: 0.8938 - val_loss: 0.2550 - val_categorical_accuracy: 0.9094\n",
      "Epoch 5/20\n",
      "13116/13116 [==============================] - 43s 3ms/step - loss: 0.2521 - categorical_accuracy: 0.8981 - val_loss: 0.2081 - val_categorical_accuracy: 0.9243\n",
      "Epoch 6/20\n",
      "13116/13116 [==============================] - 43s 3ms/step - loss: 0.2395 - categorical_accuracy: 0.9059 - val_loss: 0.2018 - val_categorical_accuracy: 0.9257\n",
      "Epoch 7/20\n",
      "13116/13116 [==============================] - 43s 3ms/step - loss: 0.2351 - categorical_accuracy: 0.9079 - val_loss: 0.2070 - val_categorical_accuracy: 0.9213\n",
      "Epoch 8/20\n",
      "13116/13116 [==============================] - 43s 3ms/step - loss: 0.2311 - categorical_accuracy: 0.9067 - val_loss: 0.2392 - val_categorical_accuracy: 0.9172\n",
      "Epoch 9/20\n",
      "13116/13116 [==============================] - 43s 3ms/step - loss: 0.2254 - categorical_accuracy: 0.9100 - val_loss: 0.2028 - val_categorical_accuracy: 0.9252\n",
      "Epoch 10/20\n",
      "13116/13116 [==============================] - 43s 3ms/step - loss: 0.2252 - categorical_accuracy: 0.9122 - val_loss: 0.1978 - val_categorical_accuracy: 0.9296\n",
      "Epoch 11/20\n",
      "13116/13116 [==============================] - 43s 3ms/step - loss: 0.2223 - categorical_accuracy: 0.9126 - val_loss: 0.2057 - val_categorical_accuracy: 0.9303\n",
      "Epoch 12/20\n",
      "13116/13116 [==============================] - 43s 3ms/step - loss: 0.2168 - categorical_accuracy: 0.9174 - val_loss: 0.1976 - val_categorical_accuracy: 0.9252\n",
      "Epoch 13/20\n",
      "13116/13116 [==============================] - 43s 3ms/step - loss: 0.2146 - categorical_accuracy: 0.9170 - val_loss: 0.2033 - val_categorical_accuracy: 0.9266\n",
      "Epoch 14/20\n",
      "13116/13116 [==============================] - 43s 3ms/step - loss: 0.2107 - categorical_accuracy: 0.9184 - val_loss: 0.2137 - val_categorical_accuracy: 0.9259\n",
      "Epoch 15/20\n",
      "13116/13116 [==============================] - 43s 3ms/step - loss: 0.2125 - categorical_accuracy: 0.9178 - val_loss: 0.2727 - val_categorical_accuracy: 0.8992\n",
      "Epoch 16/20\n",
      "13116/13116 [==============================] - 43s 3ms/step - loss: 0.2068 - categorical_accuracy: 0.9203 - val_loss: 0.1943 - val_categorical_accuracy: 0.9312\n",
      "Epoch 17/20\n",
      "13116/13116 [==============================] - 44s 3ms/step - loss: 0.2031 - categorical_accuracy: 0.9219 - val_loss: 0.1973 - val_categorical_accuracy: 0.9328\n",
      "Epoch 18/20\n",
      "13116/13116 [==============================] - 43s 3ms/step - loss: 0.1995 - categorical_accuracy: 0.9226 - val_loss: 0.1957 - val_categorical_accuracy: 0.9277\n",
      "Epoch 19/20\n",
      "13116/13116 [==============================] - 43s 3ms/step - loss: 0.2014 - categorical_accuracy: 0.9225 - val_loss: 0.1937 - val_categorical_accuracy: 0.9319\n",
      "Epoch 20/20\n",
      "13116/13116 [==============================] - 43s 3ms/step - loss: 0.1995 - categorical_accuracy: 0.9237 - val_loss: 0.1900 - val_categorical_accuracy: 0.9303\n"
     ]
    }
   ],
   "source": [
    "from keras.models import Sequential\n",
    "from keras.layers import Dense, Dropout, Activation, Flatten\n",
    "from keras.layers import Conv2D, MaxPooling2D, Lambda\n",
    "from keras.models import Sequential\n",
    "from keras.layers import Convolution2D, ZeroPadding2D, MaxPooling2D\n",
    "from keras.layers.core import Flatten, Dense, Dropout, Lambda\n",
    "from keras.layers.normalization import BatchNormalization\n",
    "from keras.layers import Dense\n",
    "import keras.backend as K\n",
    "\n",
    "img_width = 128\n",
    "img_height = 128\n",
    "batch_size = 32\n",
    "\n",
    "print(\"Building model....\")\n",
    "\n",
    "def global_average_pooling(x):\n",
    "    return K.mean(x, axis = (1, 2))\n",
    "    \n",
    "model = Sequential()\n",
    "\n",
    "model.add(ZeroPadding2D((1,1),input_shape=((128,128,2))))\n",
    "\n",
    "'''\n",
    "model.add(Convolution2D(64, 4, 4, activation='relu', name='conv1_1'))\n",
    "model.add(ZeroPadding2D((1, 1)))\n",
    "model.add(Convolution2D(64, 4, 4, activation='relu', name='conv1_2'))\n",
    "model.add(MaxPooling2D((2, 2), strides=(2, 2)))\n",
    "model.add(ZeroPadding2D((1, 1)))\n",
    "\n",
    "model.add(Convolution2D(128, 4, 4, activation='relu', name='conv2_1'))\n",
    "model.add(ZeroPadding2D((1, 1)))\n",
    "model.add(Convolution2D(128, 4, 4, activation='relu', name='conv2_2'))\n",
    "model.add(MaxPooling2D((2, 2), strides=(2, 2)))\n",
    "model.add(ZeroPadding2D((1, 1)))\n",
    "\n",
    "model.add(Convolution2D(256, 8, 8, activation='relu', name='conv3_1'))\n",
    "model.add(ZeroPadding2D((1, 1)))\n",
    "model.add(Convolution2D(256, 8, 8, activation='relu', name='conv3_2'))\n",
    "model.add(ZeroPadding2D((1, 1)))\n",
    "model.add(Convolution2D(256, 8, 8, activation='relu', name='conv3_3'))\n",
    "\n",
    "model.add(MaxPooling2D((2, 2), strides=(2, 2)))\n",
    "model.add(ZeroPadding2D((1, 1)))\n",
    "\n",
    "#model.add(Convolution2D(512, 16, 16, activation='relu', name='conv5_1'))\n",
    "#model.add(ZeroPadding2D((1, 1)))\n",
    "#model.add(Convolution2D(512, 8, 8, activation='relu', name='conv5_2'))\n",
    "#model.add(ZeroPadding2D((1, 1)))\n",
    "#model.add(Convolution2D(512, 8, 8, activation='relu', name='conv5_3'))\n",
    "\n",
    "'''\n",
    "model.add(ZeroPadding2D((1,1),input_shape=((128,128,2))))\n",
    "\n",
    "\n",
    "model.add(Convolution2D(64, 3, 3, activation='relu', name='conv1_1'))\n",
    "model.add(ZeroPadding2D((1, 1)))\n",
    "model.add(Convolution2D(64, 3, 3, activation='relu', name='conv1_2'))\n",
    "model.add(MaxPooling2D((2, 2), strides=(2, 2)))\n",
    "model.add(ZeroPadding2D((1, 1)))\n",
    "\n",
    "model.add(Convolution2D(128, 3, 3, activation='relu', name='conv2_1'))\n",
    "model.add(ZeroPadding2D((1, 1)))\n",
    "model.add(Convolution2D(128, 3, 3, activation='relu', name='conv2_2'))\n",
    "model.add(MaxPooling2D((2, 2), strides=(2, 2)))\n",
    "model.add(ZeroPadding2D((1, 1)))\n",
    "\n",
    "model.add(Convolution2D(256, 3, 3, activation='relu', name='conv3_1'))\n",
    "model.add(ZeroPadding2D((1, 1)))\n",
    "model.add(Convolution2D(256, 3, 3, activation='relu', name='conv3_2'))\n",
    "model.add(ZeroPadding2D((1, 1)))\n",
    "model.add(Convolution2D(256, 3, 3, activation='relu', name='conv3_3'))\n",
    "\n",
    "model.add(MaxPooling2D((2, 2), strides=(2, 2)))\n",
    "model.add(ZeroPadding2D((1, 1)))\n",
    "\n",
    "model.add(Convolution2D(512, 3, 3, activation='relu', name='conv5_1'))\n",
    "model.add(ZeroPadding2D((1, 1)))\n",
    "model.add(Convolution2D(512, 3, 3, activation='relu', name='conv5_2'))\n",
    "model.add(ZeroPadding2D((1, 1)))\n",
    "model.add(Convolution2D(512, 3, 3, activation='relu', name='conv5_3'))\n",
    "\n",
    "model.add(Lambda(global_average_pooling, output_shape=((512,))))\n",
    "\n",
    "#model.add(MaxPooling2D(pool_size=(3, 3)))\n",
    "#model.add(Flatten())  # this converts our 3D feature maps to 1D feature vectors\n",
    "\n",
    "model.add(Dense(2, kernel_initializer='glorot_normal', activation='softmax'))\n",
    "\n",
    "model.compile(loss = \"categorical_crossentropy\", \n",
    "              optimizer = optimizers.Adam(lr=0.00001,beta_1=0.9, beta_2=0.999,decay=0.00001, amsgrad=True), \n",
    "              metrics=[\"categorical_accuracy\"])\n",
    "\n",
    "history = model.fit(x=x_train, y=y_train, validation_data=(x_valid, y_valid), batch_size=batch_size, epochs=20)\n",
    "\n",
    "#history = model.fit_generator(datagen.flow(x_train, y_train, batch_size=128), \\\n",
    "#                         validation_data=datagen_valid.flow(x_valid, y_valid, 1000),\\\n",
    "#                         #steps_per_epoch = 100,\n",
    "#                         epochs=300, use_multiprocessing=True, workers=32) #steps_per_epoch = 100\n",
    "#keras.backend.get_session().run(tf.global_variables_initializer())"
   ]
  },
  {
   "cell_type": "code",
   "execution_count": 15,
   "metadata": {},
   "outputs": [],
   "source": [
    "model.save_weights(\"original_custom_vgg_binary.h5\")"
   ]
  },
  {
   "cell_type": "code",
   "execution_count": 17,
   "metadata": {},
   "outputs": [],
   "source": [
    "alpha_00001 = history.history[\"categorical_accuracy\"]"
   ]
  },
  {
   "cell_type": "code",
   "execution_count": 19,
   "metadata": {},
   "outputs": [],
   "source": [
    "alpha_0000001 = history.history[\"categorical_accuracy\"]"
   ]
  },
  {
   "cell_type": "code",
   "execution_count": 21,
   "metadata": {},
   "outputs": [],
   "source": [
    "alpha_001 = history.history[\"categorical_accuracy\"]"
   ]
  },
  {
   "cell_type": "code",
   "execution_count": 24,
   "metadata": {},
   "outputs": [
    {
     "data": {
      "text/plain": [
       "dict_keys(['val_loss', 'val_categorical_accuracy', 'loss', 'categorical_accuracy'])"
      ]
     },
     "execution_count": 24,
     "metadata": {},
     "output_type": "execute_result"
    }
   ],
   "source": [
    "history.history.keys()"
   ]
  },
  {
   "cell_type": "code",
   "execution_count": 32,
   "metadata": {},
   "outputs": [
    {
     "data": {
      "image/png": "[encoded data removed]",
      "text/plain": [
       "<Figure size 432x288 with 1 Axes>"
      ]
     },
     "metadata": {},
     "output_type": "display_data"
    }
   ],
   "source": [
    "plt.plot(history.history[\"categorical_accuracy\"])\n",
    "plt.plot(np.array(history.history['val_categorical_accuracy']))\n",
    "\n",
    "plt.title('Training and Validation accuracy of our best model')\n",
    "plt.ylabel('accuracy')\n",
    "plt.xlabel('epoch')\n",
    "plt.legend(['test', 'validation'], loc='lower right')\n",
    "plt.show()"
   ]
  },
  {
   "cell_type": "code",
   "execution_count": 94,
   "metadata": {},
   "outputs": [
    {
     "data": {
      "text/plain": [
       "array([[2261,  179],\n",
       "       [ 178, 1755]])"
      ]
     },
     "execution_count": 94,
     "metadata": {},
     "output_type": "execute_result"
    }
   ],
   "source": [
    "from sklearn.metrics import confusion_matrix\n",
    "pred = model.predict(x_valid)\n",
    "confusion_matrix([np.argmax(y) for y in y_valid], [np.argmax(p) for p in pred])"
   ]
  },
  {
   "cell_type": "code",
   "execution_count": 92,
   "metadata": {},
   "outputs": [
    {
     "data": {
      "text/plain": [
       "array([[2440,    0],\n",
       "       [1933,    0]])"
      ]
     },
     "execution_count": 92,
     "metadata": {},
     "output_type": "execute_result"
    }
   ],
   "source": [
    "confusion_matrix([np.argmax(y) for y in y_valid], [np.argmax(p) for p in pred])"
   ]
  },
  {
   "cell_type": "code",
   "execution_count": 116,
   "metadata": {},
   "outputs": [
    {
     "data": {
      "text/plain": [
       "<matplotlib.image.AxesImage at 0x7f627d2f6d68>"
      ]
     },
     "execution_count": 116,
     "metadata": {},
     "output_type": "execute_result"
    },
    {
     "data": {
      "image/png": "[encoded data removed]",
      "text/plain": [
       "<Figure size 432x288 with 1 Axes>"
      ]
     },
     "metadata": {},
     "output_type": "display_data"
    }
   ],
   "source": [
    "plt.imshow(x_valid[10,:,:,1], cmap='gray')"
   ]
  },
  {
   "cell_type": "code",
   "execution_count": 108,
   "metadata": {},
   "outputs": [
    {
     "data": {
      "text/plain": [
       "(array([   7,    8,   10,   19,   21,   22,   25,   26,   40,   61,   62,\n",
       "          70,   87,   88,   89,  103,  104,  110,  111,  194,  206,  207,\n",
       "         208,  255,  256,  289,  308,  309,  319,  360,  361,  362,  368,\n",
       "         373,  374,  375,  376,  378,  382,  393,  402,  407,  408,  417,\n",
       "         425,  426,  433,  434,  435,  438,  439,  477,  573,  575,  578,\n",
       "         591,  600,  603,  610,  618,  629,  637,  649,  678,  679,  690,\n",
       "         691,  714,  715,  734,  736,  742,  766,  767,  769,  770,  808,\n",
       "         877,  942,  955, 1137, 1138, 1166, 1324, 1380, 1392, 1433, 1532,\n",
       "        1657, 1710, 1727, 1736, 1743, 1767, 1770, 1778, 1796, 1833, 1859,\n",
       "        1860, 1861, 1862, 1968, 2044, 2047, 2071, 2093, 2101, 2171, 2216,\n",
       "        2261, 2359, 2386, 2394, 2419, 2434, 2468, 2487, 2504, 2510, 2522,\n",
       "        2558, 2566, 2587, 2594, 2619, 2658, 2686, 2776, 2809, 2810, 2811,\n",
       "        2819, 2860, 2876, 2891, 2892, 2893, 2913, 2922, 3022, 3029, 3084,\n",
       "        3174, 3208, 3209, 3244, 3271, 3275, 3324, 3343, 3359, 3360, 3380,\n",
       "        3382, 3388, 3393, 3443, 3444, 3451, 3520, 3575, 3576, 3578, 3621,\n",
       "        3668, 3669, 3738, 3811, 3812, 3896, 3945, 4091, 4188, 4194, 4195,\n",
       "        4350, 4356]),)"
      ]
     },
     "execution_count": 108,
     "metadata": {},
     "output_type": "execute_result"
    }
   ],
   "source": [
    "wrong"
   ]
  },
  {
   "cell_type": "markdown",
   "metadata": {},
   "source": [
    "## CAM"
   ]
  },
  {
   "cell_type": "code",
   "execution_count": 119,
   "metadata": {},
   "outputs": [],
   "source": [
    "class Graph: \n",
    "  \n",
    "    def __init__(self, g): \n",
    "        plt.imshow(g)\n",
    "        self.ROW = g.shape[0]\n",
    "        self.COL = g.shape[1] \n",
    "        self.graph = g\n",
    "        self.classes = np.zeros_like(g)\n",
    "        self.visited = np.zeros_like(g)\n",
    "        self.visited[g == 0] = 1\n",
    "  \n",
    "    def isSafe(self, i, j): \n",
    "\n",
    "        return (i >= 0 and i < self.ROW and \n",
    "                j >= 0 and j < self.COL and \n",
    "                not self.visited[i][j] and self.graph[i][j] > 0) \n",
    "              \n",
    "  \n",
    "    def DFS(self, i, j, class_label):   \n",
    "        rowNbr = [-1, -1, -1,  0, 0,  1, 1, 1] \n",
    "        colNbr = [-1,  0,  1, -1, 1, -1, 0, 1] \n",
    "          \n",
    "        self.visited[i][j] = 1\n",
    "        self.classes[i][j] = class_label + 1\n",
    "\n",
    "        for k in range(8): \n",
    "            if self.isSafe(i + rowNbr[k], j + colNbr[k]): \n",
    "                self.DFS(i + rowNbr[k], j + colNbr[k], class_label) \n",
    "  \n",
    "  \n",
    "    def countIslands(self): \n",
    "        count = 0\n",
    "\n",
    "        while 0 in self.visited:\n",
    "            x_coord, y_coord = np.where(self.visited == 0)\n",
    "            idx = np.random.randint(len(x_coord))\n",
    "            x,y = x_coord[idx], y_coord[idx]\n",
    "\n",
    "            if self.visited[x][y] == 0 and self.graph[x][y] > 0: \n",
    "                self.DFS(x, y, count) \n",
    "                count += 1\n",
    "  \n",
    "        return self.classes, count"
   ]
  },
  {
   "cell_type": "code",
   "execution_count": 120,
   "metadata": {},
   "outputs": [],
   "source": [
    "def calculate_iou(pairs):\n",
    "\n",
    "    results = []\n",
    "    \n",
    "    for p in pairs:\n",
    "        y_true = p[0]\n",
    "        y_pred = p[1]\n",
    "        y_true = y_true.astype(np.float32)\n",
    "        y_pred = y_pred.astype(np.float32)\n",
    "        x_boxTrue_tleft = y_true[0] \n",
    "        y_boxTrue_tleft = y_true[1]\n",
    "        boxTrue_width = y_true[2]\n",
    "        boxTrue_height = y_true[3]\n",
    "        area_boxTrue = (boxTrue_width * boxTrue_height)\n",
    "\n",
    "        x_boxPred_tleft = y_pred[0]\n",
    "        y_boxPred_tleft = y_pred[1]\n",
    "        boxPred_width = y_pred[2]\n",
    "        boxPred_height = y_pred[3]\n",
    "        area_boxPred = (boxPred_width * boxPred_height)\n",
    "\n",
    "        x_boxTrue_br = x_boxTrue_tleft + boxTrue_width\n",
    "        y_boxTrue_br = y_boxTrue_tleft + boxTrue_height\n",
    "        x_boxPred_br = x_boxPred_tleft + boxPred_width\n",
    "        y_boxPred_br = y_boxPred_tleft + boxPred_height \n",
    "\n",
    "        x_boxInt_tleft = np.max([x_boxTrue_tleft,x_boxPred_tleft])\n",
    "        y_boxInt_tleft = np.max([y_boxTrue_tleft,y_boxPred_tleft]) \n",
    "        \n",
    "        x_boxInt_br = np.min([x_boxTrue_br,x_boxPred_br])\n",
    "        y_boxInt_br = np.min([y_boxTrue_br,y_boxPred_br]) \n",
    "\n",
    "        area_of_intersection = \\\n",
    "        np.max([0,(x_boxInt_br - x_boxInt_tleft)]) * np.max([0,(y_boxInt_br - y_boxInt_tleft)])\n",
    "\n",
    "        iou = area_of_intersection / ((area_boxTrue + area_boxPred) - area_of_intersection)\n",
    "\n",
    "        iou = iou.astype(np.float32)\n",
    "        results.append(iou)\n",
    "    \n",
    "    return np.mean(results)\n",
    "    \n",
    "idx = 1\n",
    "\n",
    "y1, x1, height, width = df_train.iloc[idx]['y'], df_train.iloc[idx]['x'], df_train.iloc[idx]['height'], df_train.iloc[idx]['width']\n",
    "y1 = int(y1/8)\n",
    "x1 = int(x1/8)\n",
    "height = int(height/8)\n",
    "width = int(width/8)\n",
    "y_true = np.array([x1,y1,width,height, 1])\n",
    "\n"
   ]
  },
  {
   "cell_type": "code",
   "execution_count": 39,
   "metadata": {
    "scrolled": true
   },
   "outputs": [
    {
     "name": "stdout",
     "output_type": "stream",
     "text": [
      "_________________________________________________________________\n",
      "Layer (type)                 Output Shape              Param #   \n",
      "=================================================================\n",
      "zero_padding2d_31 (ZeroPaddi (None, 130, 130, 2)       0         \n",
      "_________________________________________________________________\n",
      "conv1_1 (Conv2D)             (None, 128, 128, 64)      1216      \n",
      "_________________________________________________________________\n",
      "zero_padding2d_32 (ZeroPaddi (None, 130, 130, 64)      0         \n",
      "_________________________________________________________________\n",
      "conv1_2 (Conv2D)             (None, 128, 128, 64)      36928     \n",
      "_________________________________________________________________\n",
      "max_pooling2d_10 (MaxPooling (None, 64, 64, 64)        0         \n",
      "_________________________________________________________________\n",
      "zero_padding2d_33 (ZeroPaddi (None, 66, 66, 64)        0         \n",
      "_________________________________________________________________\n",
      "conv2_1 (Conv2D)             (None, 64, 64, 128)       73856     \n",
      "_________________________________________________________________\n",
      "zero_padding2d_34 (ZeroPaddi (None, 66, 66, 128)       0         \n",
      "_________________________________________________________________\n",
      "conv2_2 (Conv2D)             (None, 64, 64, 128)       147584    \n",
      "_________________________________________________________________\n",
      "max_pooling2d_11 (MaxPooling (None, 32, 32, 128)       0         \n",
      "_________________________________________________________________\n",
      "zero_padding2d_35 (ZeroPaddi (None, 34, 34, 128)       0         \n",
      "_________________________________________________________________\n",
      "conv3_1 (Conv2D)             (None, 32, 32, 256)       295168    \n",
      "_________________________________________________________________\n",
      "zero_padding2d_36 (ZeroPaddi (None, 34, 34, 256)       0         \n",
      "_________________________________________________________________\n",
      "conv3_2 (Conv2D)             (None, 32, 32, 256)       590080    \n",
      "_________________________________________________________________\n",
      "zero_padding2d_37 (ZeroPaddi (None, 34, 34, 256)       0         \n",
      "_________________________________________________________________\n",
      "conv3_3 (Conv2D)             (None, 32, 32, 256)       590080    \n",
      "_________________________________________________________________\n",
      "max_pooling2d_12 (MaxPooling (None, 16, 16, 256)       0         \n",
      "_________________________________________________________________\n",
      "zero_padding2d_38 (ZeroPaddi (None, 18, 18, 256)       0         \n",
      "_________________________________________________________________\n",
      "conv5_1 (Conv2D)             (None, 16, 16, 512)       1180160   \n",
      "_________________________________________________________________\n",
      "zero_padding2d_39 (ZeroPaddi (None, 18, 18, 512)       0         \n",
      "_________________________________________________________________\n",
      "conv5_2 (Conv2D)             (None, 16, 16, 512)       2359808   \n",
      "_________________________________________________________________\n",
      "zero_padding2d_40 (ZeroPaddi (None, 18, 18, 512)       0         \n",
      "_________________________________________________________________\n",
      "conv5_3 (Conv2D)             (None, 16, 16, 512)       2359808   \n",
      "_________________________________________________________________\n",
      "lambda_4 (Lambda)            (None, 512)               0         \n",
      "_________________________________________________________________\n",
      "dense_4 (Dense)              (None, 2)                 1026      \n",
      "=================================================================\n",
      "Total params: 7,635,714\n",
      "Trainable params: 7,635,714\n",
      "Non-trainable params: 0\n",
      "_________________________________________________________________\n"
     ]
    }
   ],
   "source": [
    "model_final = model\n",
    "model_final.summary()"
   ]
  },
  {
   "cell_type": "code",
   "execution_count": 177,
   "metadata": {},
   "outputs": [
    {
     "name": "stderr",
     "output_type": "stream",
     "text": [
      "Clipping input data to the valid range for imshow with RGB data ([0..1] for floats or [0..255] for integers).\n"
     ]
    },
    {
     "ename": "TypeError",
     "evalue": "'NoneType' object is not iterable",
     "output_type": "error",
     "traceback": [
      "\u001b[0;31m---------------------------------------------------------------------------\u001b[0m",
      "\u001b[0;31mTypeError\u001b[0m                                 Traceback (most recent call last)",
      "\u001b[0;32m<ipython-input-177-93367501e8f2>\u001b[0m in \u001b[0;36m<module>\u001b[0;34m()\u001b[0m\n\u001b[1;32m    124\u001b[0m     \u001b[0;31m#return heatmap\u001b[0m\u001b[0;34m\u001b[0m\u001b[0;34m\u001b[0m\u001b[0m\n\u001b[1;32m    125\u001b[0m     '''\n\u001b[0;32m--> 126\u001b[0;31m \u001b[0mheatmap\u001b[0m\u001b[0;34m,\u001b[0m \u001b[0mimg\u001b[0m \u001b[0;34m=\u001b[0m \u001b[0mplot_cam_localization\u001b[0m\u001b[0;34m(\u001b[0m\u001b[0;36m9055\u001b[0m\u001b[0;34m,\u001b[0m \u001b[0;36m9055\u001b[0m\u001b[0;34m,\u001b[0m \u001b[0mmodel_final\u001b[0m\u001b[0;34m,\u001b[0m \u001b[0mx_train\u001b[0m\u001b[0;34m,\u001b[0m \u001b[0mx_train_original\u001b[0m\u001b[0;34m,\u001b[0m \u001b[0mdf_train\u001b[0m\u001b[0;34m,\u001b[0m \u001b[0;34m\"conv5_3\"\u001b[0m\u001b[0;34m)\u001b[0m\u001b[0;34m\u001b[0m\u001b[0m\n\u001b[0m",
      "\u001b[0;31mTypeError\u001b[0m: 'NoneType' object is not iterable"
     ]
    },
    {
     "data": {
      "image/png": "[encoded data removed]",
      "text/plain": [
       "<Figure size 432x288 with 1 Axes>"
      ]
     },
     "metadata": {},
     "output_type": "display_data"
    }
   ],
   "source": [
    "import cv2\n",
    "import itertools\n",
    "import matplotlib.pyplot as plt\n",
    "import pylab\n",
    "    \n",
    "def overlay_box(im, idx, df_train, rgb = np.array([225,0,0]), stroke=1):\n",
    "\n",
    "    y1, x1, height, width = df_train.iloc[idx]['y'], df_train.iloc[idx]['x'], df_train.iloc[idx]['height'], df_train.iloc[idx]['width']\n",
    "    y1 = int(y1/8)\n",
    "    x1 = int(x1/8)\n",
    "    height = int(height/8)\n",
    "    width = int(width/8)\n",
    "    \n",
    "    y2 = y1 + height\n",
    "    x2 = x1 + width\n",
    "\n",
    "    print(y1,y2,x1,x2)\n",
    "    \n",
    "    im[y1:y1 + stroke, x1:x2] = rgb\n",
    "    im[y2:y2 + stroke, x1:x2] = rgb\n",
    "    im[y1:y2, x1:x1 + stroke] = rgb\n",
    "    im[y1:y2, x2:x2 + stroke] = rgb\n",
    "\n",
    "    return im\n",
    "\n",
    "\n",
    "def draw_predicted_box(im, x1, x2, y1, y2, rgb = np.array([0,0,255]), stroke=1):\n",
    "    \n",
    "    im[y1:y1 + stroke, x1:x2] = rgb\n",
    "    im[y2:y2 + stroke, x1:x2] = rgb\n",
    "    im[y1:y2, x1:x1 + stroke] = rgb\n",
    "    im[y1:y2, x2:x2 + stroke] = rgb\n",
    "\n",
    "    return im\n",
    "\n",
    "def get_output_layer(model, layer_name):\n",
    "    layer_dict = dict([(layer.name, layer) for layer in model.layers])\n",
    "    layer = layer_dict[layer_name]\n",
    "    return layer\n",
    "\n",
    "def plot_cam_localization(i, idx, model, x_train, x_train_original, df, final_conv_name = \"conv5_3\"):\n",
    "   \n",
    "    height, width = 128, 128 \n",
    "\n",
    "    img = x_train[i]\n",
    "    img = np.array([np.transpose(np.float32(img), (0, 1, 2))])\n",
    "    class_weights = model_final.layers[-1].get_weights()[0]\n",
    "    final_conv_layer = get_output_layer(model_final, final_conv_name)\n",
    "    get_output = K.function([model_final.layers[0].input], [final_conv_layer.output, model_final.layers[-1].output])\n",
    "    [conv_outputs, predictions] = get_output([img])\n",
    "    \n",
    "    if np.argmax(predictions) == 0:\n",
    "        return None\n",
    "\n",
    "    conv_outputs = conv_outputs[0, :, :, :]\n",
    "\n",
    "    cam = np.zeros(dtype = np.float32, shape = conv_outputs.shape[0:2])\n",
    "    for i, w in enumerate(class_weights[:, 0]):\n",
    "        cam += w * conv_outputs[:, :, i]\n",
    "        \n",
    "    cam /= np.max(cam)\n",
    "    cam = cv2.resize(cam, (height, width))\n",
    "    heatmap = cv2.applyColorMap(np.uint8(-cam*255), cv2.COLORMAP_JET)\n",
    "    heatmap[np.where(cam < 0.0)] = 0\n",
    "\n",
    "\n",
    "    img = np.repeat(x_train_original[idx][:, :, np.newaxis] , 3, axis=2).astype(int)\n",
    "    #img = heatmap * 0.3 + img * 0.7\n",
    "    img = heatmap * 0.3 / 255 + img /255\n",
    "    plt.imshow(img)\n",
    "\n",
    "    \n",
    "    rgb = np.floor(np.random.rand(3) * 256).astype('int')\n",
    "    im = img\n",
    "    im = overlay_box(img, idx, df, stroke=1)\n",
    "    plt.imshow(img)\n",
    "\n",
    "    heatmap_avg = heatmap.mean(axis=2)\n",
    "\n",
    "    g = Graph(heatmap_avg) \n",
    "    \n",
    "    class_labels, count = g.countIslands()\n",
    "    \n",
    "    y_pred = []\n",
    "    \n",
    "    for i in range(1, count+1):\n",
    "        y_coord, x_coord = np.where(class_labels == i)\n",
    "        min_x = min(x_coord)\n",
    "        max_x = max(x_coord)\n",
    "        min_y = min(y_coord)\n",
    "        max_y = max(y_coord)\n",
    "        width = max_x - min_x\n",
    "        height = max_y - min_y\n",
    "        \n",
    "        if width < 12 or height < 12:\n",
    "            continue\n",
    "        y_pred.append(np.array([min_x, min_y, width, height]))\n",
    "        \n",
    "        im = draw_predicted_box(im, min_x, max_x, min_y, max_y)\n",
    "    plt.imshow(img)\n",
    "    return heatmap, img\n",
    "    pid = df_train.iloc[idx]['patientId']\n",
    "    y_true = patientId_to_coord[pid]\n",
    "    \n",
    "    if np.isnan(y_true[0]).any():\n",
    "        return 0\n",
    "    \n",
    "    if len(y_true) >= len(y_pred):\n",
    "        possible_alignments = [list(zip(x,y_pred)) for x in itertools.permutations(y_true,len(y_pred))]\n",
    "    else:\n",
    "        possible_alignments = [list(zip(y_true, x)) for x in itertools.permutations(y_pred,len(y_true))]\n",
    "\n",
    "    max_alignment_iou = max([calculate_iou(pa) for pa in possible_alignments])\n",
    "    return max_alignment_iou\n",
    "    #plt.imshow(im, cmap=pylab.cm.gist_gray)\n",
    "\n",
    "    #print(img.shape)\n",
    "    #cv2.imwrite(output_path, img)\n",
    "    #plt.imshow(np.uint8(im))\n",
    "    #return heatmap\n",
    "    \n",
    "heatmap, img = plot_cam_localization(9055, 9055, model_final, x_train, x_train_original, df_train, \"conv5_3\")"
   ]
  },
  {
   "cell_type": "code",
   "execution_count": 167,
   "metadata": {},
   "outputs": [
    {
     "ename": "TypeError",
     "evalue": "'NoneType' object is not iterable",
     "output_type": "error",
     "traceback": [
      "\u001b[0;31m---------------------------------------------------------------------------\u001b[0m",
      "\u001b[0;31mTypeError\u001b[0m                                 Traceback (most recent call last)",
      "\u001b[0;32m<ipython-input-167-00caa16617ed>\u001b[0m in \u001b[0;36m<module>\u001b[0;34m()\u001b[0m\n\u001b[1;32m      1\u001b[0m \u001b[0midx\u001b[0m \u001b[0;34m=\u001b[0m \u001b[0;36m33\u001b[0m\u001b[0;34m\u001b[0m\u001b[0m\n\u001b[0;32m----> 2\u001b[0;31m \u001b[0mheatmap\u001b[0m\u001b[0;34m,\u001b[0m \u001b[0mimg\u001b[0m \u001b[0;34m=\u001b[0m \u001b[0mplot_cam_localization\u001b[0m\u001b[0;34m(\u001b[0m\u001b[0midx\u001b[0m\u001b[0;34m,\u001b[0m \u001b[0midx\u001b[0m\u001b[0;34m,\u001b[0m \u001b[0mmodel_final\u001b[0m\u001b[0;34m,\u001b[0m \u001b[0mx_train\u001b[0m\u001b[0;34m,\u001b[0m \u001b[0mx_train_original\u001b[0m\u001b[0;34m,\u001b[0m \u001b[0mdf_train\u001b[0m\u001b[0;34m,\u001b[0m \u001b[0;34m\"conv5_3\"\u001b[0m\u001b[0;34m)\u001b[0m\u001b[0;34m\u001b[0m\u001b[0m\n\u001b[0m",
      "\u001b[0;31mTypeError\u001b[0m: 'NoneType' object is not iterable"
     ]
    },
    {
     "data": {
      "image/png": "[encoded data removed]",
      "text/plain": [
       "<Figure size 432x288 with 1 Axes>"
      ]
     },
     "metadata": {},
     "output_type": "display_data"
    }
   ],
   "source": [
    "idx = 33\n",
    "heatmap, img = plot_cam_localization(idx, idx, model_final, x_train, x_train_original, df_train, \"conv5_3\")"
   ]
  },
  {
   "cell_type": "code",
   "execution_count": 21,
   "metadata": {},
   "outputs": [],
   "source": [
    "import sys\n",
    "sys.setrecursionlimit(6000)"
   ]
  },
  {
   "cell_type": "code",
   "execution_count": 1,
   "metadata": {},
   "outputs": [
    {
     "data": {
      "text/plain": [
       "'\\n#idx = 8\\n#plot_cam_localization(1, 1, model_final, x_train, x_train_original, df_train, \"conv5_3\")\\nfor i in range(13116,):\\n    try:\\n        iou_total.append(plot_cam_localization(i, i, model_final, x_train, x_train_original, df_train, \"conv5_3\"))\\n    except:\\n        print(i)    \\n'"
      ]
     },
     "execution_count": 1,
     "metadata": {},
     "output_type": "execute_result"
    }
   ],
   "source": [
    "iou_total = []\n",
    "\n",
    "for i, idx in enumerate(range(13116,17490)):\n",
    "    if i % 40 == 0:\n",
    "        print(f\"{i} / 4374\")\n",
    "    try:\n",
    "        iou_total.append(plot_cam_localization(i, idx, model_final, x_valid, x_valid_original, df_train_valid, \"conv5_3\"))\n",
    "    except:\n",
    "        print(i)\n",
    "'''\n",
    "#idx = 8\n",
    "#plot_cam_localization(1, 1, model_final, x_train, x_train_original, df_train, \"conv5_3\")\n",
    "for i in range(13116,):\n",
    "    try:\n",
    "        iou_total.append(plot_cam_localization(i, i, model_final, x_train, x_train_original, df_train, \"conv5_3\"))\n",
    "    except:\n",
    "        print(i)    \n",
    "'''\n",
    "#hma = plot_cam_localization(16, 16, model_final, x_train, x_train_original, df_train, \"conv5_3\")"
   ]
  },
  {
   "cell_type": "code",
   "execution_count": 37,
   "metadata": {},
   "outputs": [
    {
     "data": {
      "text/plain": [
       "<matplotlib.axes._subplots.AxesSubplot at 0x7f72a5332a90>"
      ]
     },
     "execution_count": 37,
     "metadata": {},
     "output_type": "execute_result"
    },
    {
     "data": {
      "image/png": "[encoded data removed]",
      "text/plain": [
       "<Figure size 432x288 with 1 Axes>"
      ]
     },
     "metadata": {},
     "output_type": "display_data"
    }
   ],
   "source": [
    "import seaborn as sns\n",
    "sns.distplot(it)"
   ]
  },
  {
   "cell_type": "code",
   "execution_count": 39,
   "metadata": {},
   "outputs": [
    {
     "name": "stdout",
     "output_type": "stream",
     "text": [
      "IoU max: 0.8451061844825745 \n",
      " IoU mean: 0.1508548204704154 \n",
      " IoU mean without 0s: 0.3468866898080236\n"
     ]
    }
   ],
   "source": [
    "print(f\"IoU max: {it.max()} \\n IoU mean: {it.mean()} \\n IoU mean without 0s: {it[it != 0].mean()}\")"
   ]
  },
  {
   "cell_type": "code",
   "execution_count": 162,
   "metadata": {},
   "outputs": [
    {
     "data": {
      "text/plain": [
       "<matplotlib.image.AxesImage at 0x7f7861e47b70>"
      ]
     },
     "execution_count": 162,
     "metadata": {},
     "output_type": "execute_result"
    },
    {
     "data": {
      "image/png": "[encoded data removed]",
      "text/plain": [
       "<Figure size 432x288 with 1 Axes>"
      ]
     },
     "metadata": {},
     "output_type": "display_data"
    }
   ],
   "source": [
    "def overlay_box(im, x1, x2, y1, y2, rgb = 5, stroke=1):\n",
    "    \n",
    "    im[y1:y1 + stroke, x1:x2] = rgb\n",
    "    im[y2:y2 + stroke, x1:x2] = rgb\n",
    "    im[y1:y2, x1:x1 + stroke] = rgb\n",
    "    im[y1:y2, x2:x2 + stroke] = rgb\n",
    "\n",
    "    return im\n",
    "g = Graph(heatmap_avg) \n",
    "class_labels, count = g.countIslands()\n",
    "\n",
    "y_pred = []\n",
    "\n",
    "for i in range(1, count+1):\n",
    "    y_coord, x_coord = np.where(class_labels == i)\n",
    "    min_x = min(x_coord)\n",
    "    max_x = max(x_coord)\n",
    "    min_y = min(y_coord)\n",
    "    max_y = max(y_coord)\n",
    "    width = max_x - min_x\n",
    "    height = max_y - min_y\n",
    "    if width > 10 or height > 10: \n",
    "        y_pred.append(np.array([min_x, min_y, width, height]))\n",
    "        overlay_box(class_labels,min_x, max_x, min_y, max_y)\n",
    "plt.imshow(class_labels)"
   ]
  },
  {
   "cell_type": "code",
   "execution_count": 135,
   "metadata": {},
   "outputs": [
    {
     "data": {
      "text/plain": [
       "[array([17, 26, 69, 29]), array([32, 75, 45, 25])]"
      ]
     },
     "execution_count": 135,
     "metadata": {},
     "output_type": "execute_result"
    }
   ],
   "source": [
    "y_pred"
   ]
  },
  {
   "cell_type": "code",
   "execution_count": 657,
   "metadata": {},
   "outputs": [
    {
     "name": "stdout",
     "output_type": "stream",
     "text": [
      "Score: 0.5983980710733049 for 2 classes\n",
      "Score: 0.5423329735606265 for 3 classes\n",
      "Score: 0.5013245660726321 for 4 classes\n",
      "Score: 0.41908292244894274 for 5 classes\n",
      "Score: 0.43611342863561486 for 6 classes\n",
      "Score: 0.4418089725739655 for 7 classes\n",
      "Score: 0.44292870570659765 for 8 classes\n",
      "Score: 0.4201320096250376 for 9 classes\n"
     ]
    }
   ],
   "source": [
    "from sklearn.cluster import KMeans\n",
    "from sklearn import metrics\n",
    "\n",
    "def k_mean_distance(data, cx, cy, cz, i_centroid, cluster_labels):\n",
    "    distances = [np.sqrt((x-cx)**2+(y-cy)**2 + (z-cz)**2) for (x, y,z) in data[cluster_labels == i_centroid]]\n",
    "    return np.mean(distances)\n",
    "\n",
    "\n",
    "\n",
    "x_coord, y_coord, z_coord = np.where(heatmap > 0 )\n",
    "features = np.array([[x,y,z] for x,y,z in zip(x_coord, y_coord, z_coord)])\n",
    "for i in range(2,10):\n",
    "    kmeans = KMeans(n_clusters=i, random_state=0)\n",
    "    labels = kmeans.fit_predict(features)\n",
    "    #centroids = kmeans.cluster_centers_\n",
    "\n",
    "    #c_mean_distances = []\n",
    "    #for i, (cx, cy, cz) in enumerate(centroids):\n",
    "    #    mean_distance = k_mean_distance(features, cx, cy, cz, i, labels)\n",
    "    #    c_mean_distances.append(mean_distance)\n",
    "    #print(np.array(c_mean_distances).mean())\n",
    "    print(f\"Score: {metrics.silhouette_score(features, labels, metric='euclidean')} for {i} classes\")"
   ]
  },
  {
   "cell_type": "code",
   "execution_count": 543,
   "metadata": {},
   "outputs": [
    {
     "data": {
      "text/plain": [
       "(128, 128, 3)"
      ]
     },
     "execution_count": 543,
     "metadata": {},
     "output_type": "execute_result"
    }
   ],
   "source": [
    "def generate_bbox(cls_map, reg, scale, threshold):\n",
    "    stride = 2\n",
    "    # stride = 4\n",
    "    cellsize = 12\n",
    "    # cellsize = 25\n",
    "\n",
    "    # index of class_prob larger than threshold\n",
    "    t_index = np.where(cls_map > threshold)\n",
    "\n",
    "    # find nothing\n",
    "    if t_index[0].size == 0:\n",
    "        return np.array([])\n",
    "    # offset\n",
    "    dx1, dy1, dx2, dy2 = [reg[t_index[0], t_index[1], i] for i in range(4)]\n",
    "\n",
    "    reg = np.array([dx1, dy1, dx2, dy2])\n",
    "    score = cls_map[t_index[0], t_index[1]]\n",
    "    boundingbox = np.vstack([np.round((stride * t_index[1]) / scale),\n",
    "                             np.round((stride * t_index[0]) / scale),\n",
    "                             np.round((stride * t_index[1] + cellsize) / scale),\n",
    "                             np.round((stride * t_index[0] + cellsize) / scale),\n",
    "                             score,\n",
    "                             reg])\n",
    "\n",
    "    return boundingbox.T\n",
    "\n",
    "reg = np.zeros((128,128,3))\n",
    "box = generate_bbox(heatmap, reg, 1)"
   ]
  },
  {
   "cell_type": "code",
   "execution_count": 2,
   "metadata": {
    "scrolled": true
   },
   "outputs": [],
   "source": [
    "heatmap"
   ]
  },
  {
   "cell_type": "code",
   "execution_count": null,
   "metadata": {},
   "outputs": [],
   "source": [
    "rgb = np.floor(np.random.rand(3) * 256).astype('int')\n",
    "im = overlay_box(im=im, idx, rgb=rgb, stroke=6)\n",
    "\n",
    "plt.imshow(im, cmap=pylab.cm.gist_gray)\n",
    "    \n",
    "def overlay_box(im, idx, rgb, stroke=1):\n",
    "    \"\"\"\n",
    "    Method to overlay single box on image\n",
    "\n",
    "    \"\"\"\n",
    "    # --- Convert coordinates to integers\n",
    "    \n",
    "    # --- Extract coordinates\n",
    "    y1, x1, height, width = df_train.iloc[idx]['x'], df_train.iloc[idx]['y'], df_train.iloc[idx]['width'], df_train.iloc[idx]['height']\n",
    "    y2 = y1 + height\n",
    "    x2 = x1 + width\n",
    "\n",
    "    im[y1:y1 + stroke, x1:x2] = rgb\n",
    "    im[y2:y2 + stroke, x1:x2] = rgb\n",
    "    im[y1:y2, x1:x1 + stroke] = rgb\n",
    "    im[y1:y2, x2:x2 + stroke] = rgb\n",
    "\n",
    "    return im"
   ]
  },
  {
   "cell_type": "code",
   "execution_count": 4,
   "metadata": {},
   "outputs": [],
   "source": [
    "import cv2\n",
    "def get_output_layer(model, layer_name):\n",
    "    # get the symbolic outputs of each \"key\" layer (we gave them unique names).\n",
    "    layer_dict = dict([(layer.name, layer) for layer in model.layers])\n",
    "    layer = layer_dict[layer_name]\n",
    "    return layer\n",
    "\n",
    "idx = 32\n",
    "\n",
    "img = x_train[idx]\n",
    "\n",
    "#Get the 512 input weights to the softmax.\n",
    "height, width = 128, 128 \n",
    "\n",
    "img = x_train[2]\n",
    "img = np.array([np.transpose(np.float32(img), (0, 1, 2))])\n",
    "class_weights = model_final.layers[-2].get_weights()[0]\n",
    "final_conv_layer = get_output_layer(model_final, \"conv2d_42\")\n",
    "get_output = K.function([model_final.layers[0].input], [final_conv_layer.output, model_final.layers[-1].output])\n",
    "[conv_outputs, predictions] = get_output([img])\n",
    "\n",
    "conv_outputs = conv_outputs[0, :, :, :]\n",
    "\n",
    "Create the class activation map.\n",
    "cam = np.zeros(dtype = np.float32, shape = conv_outputs.shape[0:2])\n",
    "for i, w in enumerate(class_weights[:, 1]):\n",
    "    cam += w * conv_outputs[:, :, i]\n",
    "print(\"predictions\", predictions)\n",
    "\n",
    "cam /= np.max(cam)\n",
    "cam = cv2.resize(cam, (height, width))\n",
    "heatmap = cv2.applyColorMap(np.uint8(-cam*255), cv2.COLORMAP_JET)\n",
    "heatmap[np.where(cam < 0.1)] = 0\n",
    "\n",
    "\n",
    "img = np.repeat(x_train_original[idx][:, :, np.newaxis] , 3, axis=2)\n",
    "img = heatmap * 0.3 + np.flip(img, axis=1) * 0.8\n",
    "print(img.shape)\n",
    "cv2.imwrite(output_path, img)\n",
    "plt.imshow(np.uint8(img))"
   ]
  },
  {
   "cell_type": "code",
   "execution_count": 17,
   "metadata": {},
   "outputs": [
    {
     "data": {
      "text/plain": [
       "<matplotlib.image.AxesImage at 0x7f847d6869b0>"
      ]
     },
     "execution_count": 17,
     "metadata": {},
     "output_type": "execute_result"
    },
    {
     "data": {
      "image/png": "[encoded data removed]",
      "text/plain": [
       "<Figure size 432x288 with 1 Axes>"
      ]
     },
     "metadata": {},
     "output_type": "display_data"
    }
   ],
   "source": [
    "#img = np.repeat(x_train_original[2][:, :, np.newaxis], 3, axis=2)\n",
    "\n",
    "plt.imshow(x_train_original[8], cmap=\"gray\")"
   ]
  }
 ],
 "metadata": {
  "kernelspec": {
   "display_name": "Python 3",
   "language": "python",
   "name": "python3"
  },
  "language_info": {
   "codemirror_mode": {
    "name": "ipython",
    "version": 3
   },
   "file_extension": ".py",
   "mimetype": "text/x-python",
   "name": "python",
   "nbconvert_exporter": "python",
   "pygments_lexer": "ipython3",
   "version": "3.6.6"
  }
 },
 "nbformat": 4,
 "nbformat_minor": 2
}
